{
 "cells": [
  {
   "cell_type": "markdown",
   "id": "500a1752-3ccf-41b2-9094-e7c685b31a3f",
   "metadata": {},
   "source": [
    "# AIML- INCAF-1 Módulo 2: Identificar origen de datos\n",
    "## Ejercicio de limpieza y transformación de un conjunto de datos financieros.\n",
    "### Elaborado por: Gabriel Guzmán\n",
    "\n",
    "Se creado un programa Python el cuál utiliza diferentes tipos de limpieza y transformaión de datos financieros.\n"
   ]
  },
  {
   "cell_type": "code",
   "execution_count": 1,
   "id": "ff46f92d-9184-4ca9-91fe-7b1c7d84366e",
   "metadata": {},
   "outputs": [],
   "source": [
    "#Importamos librerias\n",
    "import pandas as pd\n",
    "import numpy as np\n",
    "from datetime import datetime"
   ]
  },
  {
   "cell_type": "code",
   "execution_count": 20,
   "id": "cad071dc-a556-495c-a02a-567550db2cd3",
   "metadata": {},
   "outputs": [
    {
     "name": "stdout",
     "output_type": "stream",
     "text": [
      "Dataframe Original:\n",
      "          fecha       Importe    Comisión          Producto              Region\n",
      "0   2024-06-01  45173.849954         NaN     Cuenta Ahorro  San Salvador Oeste\n",
      "1   2024-06-02  44951.607495         NaN  Cuenta Corriente   San Salvador Este\n",
      "2   2024-06-03  45226.690988         NaN     Cuenta Ahorro   San Salvador Este\n",
      "3   2024-06-04  45533.060450         NaN  Cuenta Corriente   San Salvador Este\n",
      "4   2024-06-05  44918.046319         NaN  Cuenta Corriente    San Salvador Sur\n",
      "..         ...           ...         ...               ...                 ...\n",
      "998 2027-02-24  44800.087354  325.539955  Cuenta Corriente    San Salvador Sur\n",
      "999 2027-02-25  45200.403973  238.264603         Prestámos   San Salvador Este\n",
      "0   2024-06-01  45173.849954         NaN     Cuenta Ahorro  San Salvador Oeste\n",
      "1   2024-06-02  44951.607495         NaN  Cuenta Corriente   San Salvador Este\n",
      "2   2024-06-03  45226.690988         NaN     Cuenta Ahorro   San Salvador Este\n",
      "\n",
      "[1003 rows x 5 columns]\n",
      "\n",
      "Información de Columnas:\n",
      "\n",
      "<class 'pandas.core.frame.DataFrame'>\n",
      "Index: 1003 entries, 0 to 2\n",
      "Data columns (total 5 columns):\n",
      " #   Column    Non-Null Count  Dtype         \n",
      "---  ------    --------------  -----         \n",
      " 0   fecha     1003 non-null   datetime64[ns]\n",
      " 1   Importe   1003 non-null   float64       \n",
      " 2   Comisión  994 non-null    float64       \n",
      " 3   Producto  1003 non-null   object        \n",
      " 4   Region    1003 non-null   object        \n",
      "dtypes: datetime64[ns](1), float64(2), object(2)\n",
      "memory usage: 47.0+ KB\n"
     ]
    }
   ],
   "source": [
    "#Generando semilla\n",
    "np.random.seed(42)\n",
    "\n",
    "#Creando datos de ejemplo\n",
    "datos = {\n",
    "    'fecha': pd.date_range(start='2024-06-01', periods=1000, freq='D'),\n",
    "    'Importe': np.random.normal(45000, 350, 1000),\n",
    "    'Comisión': np.random.normal(350, 150, 1000),\n",
    "    'Producto': np.random.choice(['Prestámos', 'Cuenta Ahorro', 'Cuenta Corriente', 'DPF'], 1000),\n",
    "    'Region': np.random.choice(['San Salvador Norte', 'San Salvador Sur', 'San Salvador Este', 'San Salvador Oeste'], 1000)\n",
    "}\n",
    "\n",
    "df = pd.DataFrame(datos)\n",
    "\n",
    "# Simulamos algunos valores nulos y duplicados para el ejemplo\n",
    "df.loc[0:5, 'Comisión'] = np.nan\n",
    "df = pd.concat([df, df.iloc[0:3]])\n",
    "\n",
    "#Mostrando datos originales\n",
    "print('Dataframe Original:\\n',df)\n",
    "\n",
    "print('\\nInformación de Columnas:\\n')\n",
    "df.info()"
   ]
  },
  {
   "cell_type": "markdown",
   "id": "cc6d35ab-683e-4593-a1a3-8a26154c16ec",
   "metadata": {},
   "source": [
    "## Iniciando proceso de limpieza y transformación de datos...\n",
    "### 1. Manejo de valores faltantes:\n",
    "\n",
    "* Identifica valores nulos en columnas numéricas\n",
    "* Rellena los valores faltantes usando la mediana de cada columna"
   ]
  },
  {
   "cell_type": "code",
   "execution_count": 3,
   "id": "b7d87092-53d0-438e-9e31-974c532096b6",
   "metadata": {},
   "outputs": [
    {
     "name": "stdout",
     "output_type": "stream",
     "text": [
      "\n",
      "1. Tratamiento de valores faltantes:\n",
      "- Valores faltantes en 'Comisión' rellenados con la mediana: 358.90197310587916\n"
     ]
    }
   ],
   "source": [
    "# Creamos una copia para no modificar los datos originales\n",
    "df_limpio = df.copy()\n",
    "\n",
    "# 1. Manejo de valores faltantes\n",
    "print(\"\\n1. Tratamiento de valores faltantes:\")\n",
    "# Rellenamos valores faltantes en columnas numéricas con la mediana\n",
    "columnas_numericas = df_limpio.select_dtypes(include=['float64', 'int64']).columns\n",
    "for columna in columnas_numericas:\n",
    "    if df_limpio[columna].isnull().sum() > 0:\n",
    "        mediana = df_limpio[columna].median()\n",
    "        #df_limpio[columna].fillna(mediana, inplace=True)\n",
    "        df_limpio[columna] = df_limpio[columna].fillna(mediana)\n",
    "        print(f\"- Valores faltantes en '{columna}' rellenados con la mediana: {mediana}\")\n",
    "\n"
   ]
  },
  {
   "cell_type": "markdown",
   "id": "c0306811-73fc-47d2-8907-ba3820cd5f62",
   "metadata": {},
   "source": [
    "### 2.Eliminación de duplicados:\n",
    "\n",
    "* Detecta y elimina registros duplicados en el conjunto de datos\n"
   ]
  },
  {
   "cell_type": "code",
   "execution_count": 4,
   "id": "08783a43-a1fe-43b8-8614-3b03f512796a",
   "metadata": {},
   "outputs": [
    {
     "name": "stdout",
     "output_type": "stream",
     "text": [
      "\n",
      "2. Eliminación de registros duplicados:\n",
      "- Se eliminaron 3 registros duplicados\n"
     ]
    }
   ],
   "source": [
    "# 2. Eliminación de duplicados\n",
    "print(\"\\n2. Eliminación de registros duplicados:\")\n",
    "duplicados = df_limpio.duplicated().sum()\n",
    "df_limpio.drop_duplicates(inplace=True)\n",
    "print(f\"- Se eliminaron {duplicados} registros duplicados\")\n"
   ]
  },
  {
   "cell_type": "markdown",
   "id": "62ada7df-6421-490e-b2c0-5938942f94bc",
   "metadata": {},
   "source": [
    "### 3.Estandarización de texto:\n",
    "\n",
    "* Convierte texto a minúsculas\n",
    "* Elimina espacios innecesarios\n",
    "* Estandariza el formato de las columnas de texto"
   ]
  },
  {
   "cell_type": "code",
   "execution_count": 5,
   "id": "d4820288-fe76-4744-bef8-4f4932fb4593",
   "metadata": {},
   "outputs": [
    {
     "name": "stdout",
     "output_type": "stream",
     "text": [
      "\n",
      "3. Estandarización de columnas de texto:\n",
      "- Columna 'Producto' estandarizada a minúsculas y sin espacios externos\n",
      "- Columna 'Region' estandarizada a minúsculas y sin espacios externos\n"
     ]
    }
   ],
   "source": [
    "# 3. Estandarización de texto\n",
    "print(\"\\n3. Estandarización de columnas de texto:\")\n",
    "columnas_texto = df_limpio.select_dtypes(include=['object']).columns\n",
    "for columna in columnas_texto:\n",
    "    # Convertimos a minúsculas y eliminamos espacios externos\n",
    "    df_limpio[columna] = df_limpio[columna].str.lower().str.strip()\n",
    "    print(f\"- Columna '{columna}' estandarizada a minúsculas y sin espacios externos\")\n"
   ]
  },
  {
   "cell_type": "markdown",
   "id": "656743c3-2e16-437c-8b27-c008bde48544",
   "metadata": {},
   "source": [
    "### 4.Tratamiento de valores atípicos (outliers):\n",
    "\n",
    "* Identifica outliers usando el método del rango intercuartílico (IQR)\n",
    "* Recorta los valores extremos a límites razonables"
   ]
  },
  {
   "cell_type": "code",
   "execution_count": 6,
   "id": "93c8ebb2-6496-44ac-9c15-139ef686784f",
   "metadata": {},
   "outputs": [
    {
     "name": "stdout",
     "output_type": "stream",
     "text": [
      "\n",
      "4. Tratamiento de valores atípicos:\n",
      "- Se encontraron y trataron 8 valores atípicos en 'Importe'\n",
      "- Se encontraron y trataron 8 valores atípicos en 'Comisión'\n"
     ]
    }
   ],
   "source": [
    "# 4. Manejo de valores atípicos (outliers)\n",
    "print(\"\\n4. Tratamiento de valores atípicos:\")\n",
    "for columna in columnas_numericas:\n",
    "    Q1 = df_limpio[columna].quantile(0.25)\n",
    "    Q3 = df_limpio[columna].quantile(0.75)\n",
    "    IQR = Q3 - Q1\n",
    "    limite_inferior = Q1 - 1.5 * IQR\n",
    "    limite_superior = Q3 + 1.5 * IQR\n",
    "\n",
    "    # Identificamos outliers\n",
    "    outliers = df_limpio[(df_limpio[columna] < limite_inferior) | \n",
    "                        (df_limpio[columna] > limite_superior)][columna]\n",
    "    \n",
    "    if len(outliers) > 0:\n",
    "        # Recortamos los valores atípicos a los límites\n",
    "        df_limpio[columna] = df_limpio[columna].clip(limite_inferior, limite_superior)\n",
    "        print(f\"- Se encontraron y trataron {len(outliers)} valores atípicos en '{columna}'\")\n"
   ]
  },
  {
   "cell_type": "markdown",
   "id": "749bff8c-27a8-455a-ac1b-912744c7a327",
   "metadata": {},
   "source": [
    "### 5. Creación de nuevas características:\n",
    "\n",
    "* Calcula nuevas métricas como el margen de beneficio\n",
    "* Agrega características derivadas útiles para el análisis"
   ]
  },
  {
   "cell_type": "code",
   "execution_count": 7,
   "id": "69bce2fd-8835-4c28-8f92-44dd8647fc6b",
   "metadata": {},
   "outputs": [
    {
     "name": "stdout",
     "output_type": "stream",
     "text": [
      "\n",
      "5. Creación de nuevas características:\n",
      "- Creada nueva columna 'margen_beneficio'\n"
     ]
    }
   ],
   "source": [
    "# 5. Creación de nuevas características\n",
    "print(\"\\n5. Creación de nuevas características:\")\n",
    "\n",
    "# Ejemplo: Calcular ratios financieros\n",
    "if 'Importe' in df_limpio.columns and 'Comisión' in df_limpio.columns:\n",
    "    df_limpio['margen_beneficio'] = ((df_limpio['Importe'] - df_limpio['Comisión']) / \n",
    "                                    df_limpio['Importe'] * 100)\n",
    "    print(\"- Creada nueva columna 'margen_beneficio'\")"
   ]
  },
  {
   "cell_type": "markdown",
   "id": "1595dca3-0f77-4337-be92-edbe8e33a00d",
   "metadata": {},
   "source": [
    "### 6. Normalización de datos numéricos:\n",
    "\n",
    "* Aplica normalización Min-Max a las columnas numéricas\n",
    "* Escala los valores entre 0 y 1"
   ]
  },
  {
   "cell_type": "code",
   "execution_count": 8,
   "id": "1e13da36-734e-4172-9fe2-6f3217ed9ddb",
   "metadata": {},
   "outputs": [
    {
     "name": "stdout",
     "output_type": "stream",
     "text": [
      "\n",
      "6. Normalización de datos numéricos:\n",
      "- Columna 'Importe' normalizada entre 0 y 1\n",
      "- Columna 'Comisión' normalizada entre 0 y 1\n"
     ]
    }
   ],
   "source": [
    "# 6. Normalización de datos numéricos\n",
    "print(\"\\n6. Normalización de datos numéricos:\")\n",
    "for columna in columnas_numericas:\n",
    "    # Aplicamos normalización Min-Max\n",
    "    min_val = df_limpio[columna].min()\n",
    "    max_val = df_limpio[columna].max()\n",
    "    df_limpio[f'{columna}_normalizado'] = ((df_limpio[columna] - min_val) / \n",
    "                                          (max_val - min_val))\n",
    "    print(f\"- Columna '{columna}' normalizada entre 0 y 1\")\n"
   ]
  },
  {
   "cell_type": "markdown",
   "id": "48308c6a-1bcd-4f51-8b01-41858c7f40b4",
   "metadata": {},
   "source": [
    "### 7. Conversión de tipos de datos:\n",
    "\n",
    "* Convierte columnas de texto a formato fecha cuando es posible\n",
    "* Asegura tipos de datos apropiados para cada columna"
   ]
  },
  {
   "cell_type": "code",
   "execution_count": 15,
   "id": "24096a8a-d6e8-43ec-aa7f-26e30cebc1b5",
   "metadata": {},
   "outputs": [
    {
     "name": "stdout",
     "output_type": "stream",
     "text": [
      "\n",
      "7. Conversión de tipos de datos:\n",
      "- La Columna 'Producto' no es de tipo fecha\n",
      "- La Columna 'Region' no es de tipo fecha\n"
     ]
    }
   ],
   "source": [
    "# 7. Conversión de tipos de datos\n",
    "print(\"\\n7. Conversión de tipos de datos:\")\n",
    "\n",
    "#Preparando el formato de fecha\n",
    "date_format = '%Y-%m-%d'\n",
    "\n",
    "# Convertir columnas de fecha\n",
    "for columna in columnas_texto:\n",
    "    try:\n",
    "        df_limpio[f'{columna}_fecha'] = pd.to_datetime(df_limpio[columna], format=date_format)\n",
    "        print(f\"- Columna '{columna}' convertida a formato fecha\")\n",
    "    except:\n",
    "        print(f\"- La Columna '{columna}' no es de tipo fecha\")\n",
    "        continue"
   ]
  }
 ],
 "metadata": {
  "kernelspec": {
   "display_name": "Python 3 (ipykernel)",
   "language": "python",
   "name": "python3"
  },
  "language_info": {
   "codemirror_mode": {
    "name": "ipython",
    "version": 3
   },
   "file_extension": ".py",
   "mimetype": "text/x-python",
   "name": "python",
   "nbconvert_exporter": "python",
   "pygments_lexer": "ipython3",
   "version": "3.12.5"
  }
 },
 "nbformat": 4,
 "nbformat_minor": 5
}
